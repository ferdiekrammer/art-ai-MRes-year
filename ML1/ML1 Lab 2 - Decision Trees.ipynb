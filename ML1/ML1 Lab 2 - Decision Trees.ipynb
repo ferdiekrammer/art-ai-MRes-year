{
 "cells": [
  {
   "cell_type": "markdown",
   "metadata": {},
   "source": [
    "# Lab 2 -  Decision Trees\n",
    "The following notebook takes you through implementing the decision tree algorithm. It involves data manipulation/visualisation, hyperparameter selection, recursion, and building a prediction model. We will use a binary classification problem: Breast cancer diagnosis."
   ]
  },
  {
   "cell_type": "markdown",
   "metadata": {},
   "source": [
    "## Marking and Submission\n",
    "\n",
    "This lab exercise is marked, and contributes 10% to your final grade. For this lab exercise there are 6 questions for which you are expected to enter your own code, for 15 marks overall. Every place you have to add code is indicated by\n",
    "\n",
    "`# **************************************************************** n marks`\n",
    "\n",
    "with instructions above the code block.\n",
    "\n",
    "Please submit your completed workbook on [https://you.cs.bath.ac.uk] before 2021-11-5 20:00 GMT. The workbook you submit must be an `.ipynb` file, which is saved into the directory you're running Jupyter; alternatively you can download it from the menu above using `File -> Download As -> Notebook (.ipynb)`. Remember to save your work regularly (Save and checkpoint in the File menu, the icon of a floppy disk, or Ctrl-S); the version you submit should have all code blocks showing the results (if any) of execution below them. The auto markerr will provide feedback and you can submit as many times as you want. You do not need to include the dataset when submitting."
   ]
  },
  {
   "cell_type": "code",
   "execution_count": 1,
   "metadata": {},
   "outputs": [],
   "source": [
    "%matplotlib inline\n",
    "import numpy as np\n",
    "\n",
    "from sklearn import datasets as ds\n",
    "from sklearn.decomposition import PCA\n",
    "from sklearn import preprocessing\n",
    "\n",
    "import matplotlib.pyplot as plt"
   ]
  },
  {
   "cell_type": "markdown",
   "metadata": {},
   "source": [
    "## Import data\n",
    "The first step of any machine learning problem is to load the data. In this tutorial you don't have to download any dataset since we are using a built-in dataset provided by the scikit learn package.\n",
    "\n",
    "\n",
    "Note that the target variable, y is either 0 or 1, where 0 means malignant and 1 means benign."
   ]
  },
  {
   "cell_type": "code",
   "execution_count": 2,
   "metadata": {},
   "outputs": [],
   "source": [
    "data_all = ds.load_breast_cancer()\n",
    "\n",
    "x = data_all.data\n",
    "y = data_all.target\n",
    "\n",
    "y_names = data_all.target_names \n",
    "\n",
    "feature_names = data_all.feature_names"
   ]
  },
  {
   "cell_type": "markdown",
   "metadata": {},
   "source": [
    "## Breast Cancer Wisconsin (Diagnostic) Database\n",
    "A description of the dataset used is provided here.\n",
    "\n",
    "Data Set Characteristics:\n",
    "    :Number of Instances: 569\n",
    "\n",
    "    :Number of Attributes: 30 numeric, predictive attributes and the class\n",
    "\n",
    "    :Attribute Information:\n",
    "        - radius (mean of distances from center to points on the perimeter)\n",
    "        - texture (standard deviation of gray-scale values)\n",
    "        - perimeter\n",
    "        - area\n",
    "        - smoothness (local variation in radius lengths)\n",
    "        - compactness (perimeter^2 / area - 1.0)\n",
    "        - concavity (severity of concave portions of the contour)\n",
    "        - concave points (number of concave portions of the contour)\n",
    "        - symmetry \n",
    "        - fractal dimension (\"coastline approximation\" - 1)\n",
    "\n",
    "        The mean, standard error, and \"worst\" or largest (mean of the three\n",
    "        largest values) of these features were computed for each image,\n",
    "        resulting in 30 features.  For instance, field 3 is Mean Radius, field\n",
    "        13 is Radius SE, field 23 is Worst Radius.\n",
    "\n",
    "        - target class:\n",
    "                - WDBC-Malignant\n",
    "                - WDBC-Benign\n",
    "\n",
    "    :Summary Statistics:\n",
    "\n",
    "    ===================================== ====== ======\n",
    "                                           Min    Max\n",
    "    ===================================== ====== ======\n",
    "    radius (mean):                        6.981  28.11\n",
    "    texture (mean):                       9.71   39.28\n",
    "    perimeter (mean):                     43.79  188.5\n",
    "    area (mean):                          143.5  2501.0\n",
    "    smoothness (mean):                    0.053  0.163\n",
    "    compactness (mean):                   0.019  0.345\n",
    "    concavity (mean):                     0.0    0.427\n",
    "    concave points (mean):                0.0    0.201\n",
    "    symmetry (mean):                      0.106  0.304\n",
    "    fractal dimension (mean):             0.05   0.097\n",
    "    radius (standard error):              0.112  2.873\n",
    "    texture (standard error):             0.36   4.885\n",
    "    perimeter (standard error):           0.757  21.98\n",
    "    area (standard error):                6.802  542.2\n",
    "    smoothness (standard error):          0.002  0.031\n",
    "    compactness (standard error):         0.002  0.135\n",
    "    concavity (standard error):           0.0    0.396\n",
    "    concave points (standard error):      0.0    0.053\n",
    "    symmetry (standard error):            0.008  0.079\n",
    "    fractal dimension (standard error):   0.001  0.03\n",
    "    radius (worst):                       7.93   36.04\n",
    "    texture (worst):                      12.02  49.54\n",
    "    perimeter (worst):                    50.41  251.2\n",
    "    area (worst):                         185.2  4254.0\n",
    "    smoothness (worst):                   0.071  0.223\n",
    "    compactness (worst):                  0.027  1.058\n",
    "    concavity (worst):                    0.0    1.252\n",
    "    concave points (worst):               0.0    0.291\n",
    "    symmetry (worst):                     0.156  0.664\n",
    "    fractal dimension (worst):            0.055  0.208\n",
    "    ===================================== ====== ======\n",
    "\n",
    "    :Missing Attribute Values: None\n",
    "\n",
    "    :Class Distribution: 212 - Malignant, 357 - Benign\n",
    "\n",
    "    :Creator:  Dr. William H. Wolberg, W. Nick Street, Olvi L. Mangasarian\n",
    "\n",
    "    :Donor: Nick Street\n",
    "\n",
    "    :Date: November, 1995\n",
    "\n",
    "This is a copy of the UCI ML Breast Cancer Wisconsin (Diagnostic) dataset from https://goo.gl/U2Uwz2\n",
    "\n",
    "Features are computed from a digitized image of a fine needle\n",
    "aspirate (FNA) of a breast mass. They describe\n",
    "characteristics of the cell nuclei present in the image.\n",
    "\n",
    "Separating plane described above was obtained using\n",
    "Multisurface Method-Tree (MSM-T) [K. P. Bennett, \"Decision Tree\n",
    "Construction Via Linear Programming.\" Proceedings of the 4th\n",
    "Midwest Artificial Intelligence and Cognitive Science Society,\n",
    "pp. 97-101, 1992], a classification method which uses linear\n",
    "programming to construct a decision tree.  Relevant features\n",
    "were selected using an exhaustive search in the space of 1-4\n",
    "features and 1-3 separating planes.\n",
    "\n",
    "The actual linear program used to obtain the separating plane\n",
    "in the 3-dimensional space is that described in:\n",
    "[K. P. Bennett and O. L. Mangasarian: \"Robust Linear\n",
    "Programming Discrimination of Two Linearly Inseparable Sets\",\n",
    "Optimization Methods and Software 1, 1992, 23-34].\n",
    "\n",
    "This database is also available through the UW CS ftp server:\n",
    "\n",
    "```\n",
    "ftp ftp.cs.wisc.edu\n",
    "cd math-prog/cpo-dataset/machine-learn/WDBC/\n",
    "```\n",
    "\n",
    "### References\n",
    "   - W.N. Street, W.H. Wolberg and O.L. Mangasarian. Nuclear feature extraction \n",
    "     for breast tumor diagnosis. IS&T/SPIE 1993 International Symposium on \n",
    "     Electronic Imaging: Science and Technology, volume 1905, pages 861-870,\n",
    "     San Jose, CA, 1993.\n",
    "   - O.L. Mangasarian, W.N. Street and W.H. Wolberg. Breast cancer diagnosis and \n",
    "     prognosis via linear programming. Operations Research, 43(4), pages 570-577, \n",
    "     July-August 1995.\n",
    "   - W.H. Wolberg, W.N. Street, and O.L. Mangasarian. Machine learning techniques\n",
    "     to diagnose breast cancer from fine-needle aspirates. Cancer Letters 77 (1994) \n",
    "     163-171.\n"
   ]
  },
  {
   "cell_type": "markdown",
   "metadata": {
    "collapsed": true
   },
   "source": [
    "## Prepare/Split data\n",
    "We provide the data preparation part. The bellow code block splits the data and the targets into training and test sets; 60% for training, 40% for test. This repartition is of course arbitrary, different percentages could have been chosen."
   ]
  },
  {
   "cell_type": "code",
   "execution_count": 3,
   "metadata": {},
   "outputs": [
    {
     "name": "stdout",
     "output_type": "stream",
     "text": [
      "Training set size: 341\n",
      "Test set size: 228\n"
     ]
    }
   ],
   "source": [
    "split = int(x.shape[0] * 0.6)\n",
    "\n",
    "x_train = x[:split,:]\n",
    "y_train = y[:split]\n",
    "\n",
    "x_test = x[split:,:]\n",
    "y_test = y[split:]\n",
    "\n",
    "print('Training set size:', x_train.shape[0])\n",
    "print('Test set size:', x_test.shape[0])"
   ]
  },
  {
   "cell_type": "markdown",
   "metadata": {},
   "source": [
    "## Data visualisation\n",
    "\n",
    "Since our data has a feature dimensionality of 30, it is difficult for us to visualise it. We visualize data by using a dimensionality reduction technique called Principal Component Analysis (PCA). \n",
    "\n",
    "Given an array in `R^None` (a matrix of size `n X d` with real entries) with `n` and `d` being the number of data points and the feature dimensionality, respectively, PCA will output an array in `R^None`, with `m<d`. \n",
    "\n",
    "PCA will be covered in future lectures. But for now, you can consider it as a way to reduce the dimensionality of our feature space. \n",
    "\n",
    "In order to be able to visualise the data on a 2D plot, we choose `m=2` (`m=3` is also a possibility)."
   ]
  },
  {
   "cell_type": "markdown",
   "metadata": {},
   "source": [
    "## 1. Looking at Data\n",
    "\n",
    "Complete the code block below to plot the reduced data obtained using PCA (`x_reduced` contains the result of applying PCA). Use different colours and markers to distinguish between positive and negative samples.\n",
    "\n",
    "It is interesting to see how the results havea  different visualisation without the scaling part. \n",
    "\n",
    "The results should look similar to the plot below (please note that this is a plot of another dataset):\n",
    "\n",
    "<img src=\"pca_example_graph.png\">\n",
    "\n",
    "Hint: You will need to google the documentation for the `scatter()` and `legend()` methods of `matplotlib`.\n",
    "\n",
    "__(1 mark)__"
   ]
  },
  {
   "cell_type": "code",
   "execution_count": 126,
   "metadata": {},
   "outputs": [
    {
     "name": "stdout",
     "output_type": "stream",
     "text": [
      "569\n"
     ]
    },
    {
     "data": {
      "image/png": "[encoded data removed]",
      "text/plain": [
       "<Figure size 432x288 with 1 Axes>"
      ]
     },
     "metadata": {
      "needs_background": "light"
     },
     "output_type": "display_data"
    }
   ],
   "source": [
    "pca = PCA(n_components=2)\n",
    "x_scaled = preprocessing.scale(x[:,:-1]) # We remove the indexing and make sure all the features are in N(0,1)\n",
    "x_reduced = pca.fit_transform(x_scaled)\n",
    "print(len(x_reduced))\n",
    "# x_reduced = pca.fit_transform(x[:,0:-1]) # Uncomment this to see the result without scaling\n",
    "\n",
    "#print(x_reduced)\n",
    "#print(x_reduced[y==1][:,0])\n",
    "#print(y)\n",
    "# **************************************************************** 1 mark\n",
    "plt.scatter(x_reduced[y==1][:,0],x_reduced[y==1][:,1],label='benign')\n",
    "plt.scatter(x_reduced[y==0][:,0],x_reduced[y==0][:,1],label='malignant')\n",
    "plt.legend()\n",
    "plt.show()\n",
    "#(train_in_r[train_out==0], train_in_g[train_out==0],"
   ]
  },
  {
   "cell_type": "markdown",
   "metadata": {},
   "source": [
    "## 2. Calculating Entropy\n",
    "\n",
    "Complete the function `calculate_entropy(y)` in the code block bellow. The input is a column vector of target class values, and the output is its entropy (as described in the decision tree lecture).\n",
    "\n",
    "`y` is a length `n` vector where `n` is the number of data points. It contains the class/category of each data point as an integer, i.e. `0` for the first class, `1` for the second class.\n",
    "The return is a scalar.\n",
    "\n",
    "Hints:\n",
    " * You may want to google the documentation for `numpy.unique()`,  paying particular attention to the `return_counts` keyword.\n",
    " * Beware `log(0)`.\n",
    " * Be careful about type - you may need to use `.astype(float)` to avoid integer division.\n",
    "\n",
    "__(4 marks)__"
   ]
  },
  {
   "cell_type": "code",
   "execution_count": 62,
   "metadata": {},
   "outputs": [
    {
     "name": "stdout",
     "output_type": "stream",
     "text": [
      "The entropy of 'y' is: 0.9526\n"
     ]
    }
   ],
   "source": [
    "def calculate_entropy(y):\n",
    "    \n",
    "    # **************************************************************** 4 marks\n",
    "    total=len(y)\n",
    "    val,numft=np.unique(y,return_counts=True) #len(y[y==0]),len(y[y==1]) could also be used to just sum the list this function is more modifiable for larger range of variables\n",
    "    pT=len(y[y==0])/total\n",
    "    pF=len(y[y==1])/total\n",
    "    if pF==0:\n",
    "        pF=1\n",
    "    if pT==0:\n",
    "        pT=1\n",
    "    entropy=-(pT*np.log2(pT))-(pF*np.log2(pF))\n",
    "\n",
    "    return entropy\n",
    "\n",
    "\n",
    "print(\"The entropy of 'y' is: {:.4f}\".format(calculate_entropy(y)))\n"
   ]
  },
  {
   "cell_type": "markdown",
   "metadata": {},
   "source": [
    "## 3. Doing the Splits\n",
    "\n",
    "Use the function `calculate_entropy()` to complete the function `find_split(x, y)`.\n",
    "\n",
    "`find_split(x, y)` takes as input:\n",
    " * The data matrix of features, `x` with shape `(n,d)`. `n` is the number of data points and `d` is the feature dimensionality. \n",
    " * `y`, a column vector of size `n` containing the target value for each data point in `x`.\n",
    "\n",
    "`find_split(x, y)` outputs 'best_split' which is a dictionary (see the last part of the below code) with the following keys and their corresponding values:\n",
    "\n",
    " * `'feature'`: An integer indexing the attribute/feature chosen to split upon.\n",
    " * `'split'`: The value/threshold of this feature to split at.\n",
    " * `'infogain'`: A scalar representing the amount of information gained by splitting this way.\n",
    " * `'left_indices'`: Indices of the exemplars that satisfy `x[feature_index]<=split`.\n",
    " * `'right_indices'`: Opposite set of indices to `left_indices`.\n",
    "\n",
    "__(5 marks)__"
   ]
  },
  {
   "cell_type": "code",
   "execution_count": 127,
   "metadata": {
    "scrolled": false
   },
   "outputs": [
    {
     "data": {
      "text/plain": [
       "{'feature': 22,\n",
       " 'split': 105.9,\n",
       " 'infogain': 0.561986885126551,\n",
       " 'left_indices': array([  3,   5,   9,  19,  20,  21,  37,  38,  40,  41,  44,  46,  47,\n",
       "         48,  49,  50,  51,  52,  55,  58,  59,  60,  61,  63,  66,  67,\n",
       "         68,  69,  71,  74,  76,  79,  80,  81,  84,  88,  90,  92,  93,\n",
       "         96,  97,  98, 101, 102, 103, 104, 106, 107, 109, 110, 111, 113,\n",
       "        114, 115, 116, 120, 123, 124, 125, 128, 130, 135, 136, 137, 139,\n",
       "        140, 142, 143, 144, 145, 146, 149, 150, 151, 152, 153, 154, 155,\n",
       "        158, 159, 160, 163, 165, 166, 169, 170, 173, 174, 175, 176, 178,\n",
       "        179, 183, 185, 187, 188, 189, 191, 192, 193, 195, 200, 204, 206,\n",
       "        208, 211, 215, 216, 217, 220, 221, 222, 224, 226, 228, 229, 231,\n",
       "        232, 234, 235, 238, 240, 241, 242, 243, 245, 246, 247, 248, 249,\n",
       "        251, 266, 267, 268, 269, 270, 271, 273, 275, 276, 278, 279, 281,\n",
       "        284, 285, 286, 287, 288, 289, 290, 292, 293, 294, 295, 296, 297,\n",
       "        298, 299, 301, 303, 304, 305, 306, 307, 308, 309, 310, 311, 312,\n",
       "        313, 314, 315, 316, 318, 319, 320, 322, 324, 325, 326, 327, 331,\n",
       "        332, 333, 334, 336, 338, 341, 342, 344, 345, 346, 348, 349, 350,\n",
       "        354, 355, 356, 357, 358, 359, 360, 361, 362, 364, 367, 371, 374,\n",
       "        376, 377, 378, 379, 380, 381, 382, 383, 384, 385, 386, 387, 388,\n",
       "        390, 391, 394, 395, 396, 397, 398, 399, 401, 402, 403, 404, 405,\n",
       "        407, 409, 410, 411, 412, 415, 416, 418, 419, 420, 422, 423, 424,\n",
       "        425, 426, 427, 428, 429, 431, 434, 436, 437, 438, 439, 440, 442,\n",
       "        443, 445, 447, 450, 452, 453, 454, 455, 456, 457, 458, 459, 462,\n",
       "        463, 464, 466, 467, 469, 470, 471, 473, 474, 475, 477, 478, 480,\n",
       "        481, 482, 483, 485, 488, 490, 493, 494, 495, 496, 497, 502, 504,\n",
       "        505, 506, 507, 510, 511, 515, 518, 519, 520, 522, 523, 524, 525,\n",
       "        526, 527, 528, 529, 530, 531, 532, 534, 536, 537, 538, 539, 540,\n",
       "        543, 544, 545, 546, 547, 548, 549, 550, 551, 552, 553, 554, 555,\n",
       "        556, 557, 558, 559, 560, 561, 568]),\n",
       " 'right_indices': array([  0,   1,   2,   4,   6,   7,   8,  10,  11,  12,  13,  14,  15,\n",
       "         16,  17,  18,  22,  23,  24,  25,  26,  27,  28,  29,  30,  31,\n",
       "         32,  33,  34,  35,  36,  39,  42,  43,  45,  53,  54,  56,  57,\n",
       "         62,  64,  65,  70,  72,  73,  75,  77,  78,  82,  83,  85,  86,\n",
       "         87,  89,  91,  94,  95,  99, 100, 105, 108, 112, 117, 118, 119,\n",
       "        121, 122, 126, 127, 129, 131, 132, 133, 134, 138, 141, 147, 148,\n",
       "        156, 157, 161, 162, 164, 167, 168, 171, 172, 177, 180, 181, 182,\n",
       "        184, 186, 190, 194, 196, 197, 198, 199, 201, 202, 203, 205, 207,\n",
       "        209, 210, 212, 213, 214, 218, 219, 223, 225, 227, 230, 233, 236,\n",
       "        237, 239, 244, 250, 252, 253, 254, 255, 256, 257, 258, 259, 260,\n",
       "        261, 262, 263, 264, 265, 272, 274, 277, 280, 282, 283, 291, 300,\n",
       "        302, 317, 321, 323, 328, 329, 330, 335, 337, 339, 340, 343, 347,\n",
       "        351, 352, 353, 363, 365, 366, 368, 369, 370, 372, 373, 375, 389,\n",
       "        392, 393, 400, 406, 408, 413, 414, 417, 421, 430, 432, 433, 435,\n",
       "        441, 444, 446, 448, 449, 451, 460, 461, 465, 468, 472, 476, 479,\n",
       "        484, 486, 487, 489, 491, 492, 498, 499, 500, 501, 503, 508, 509,\n",
       "        512, 513, 514, 516, 517, 521, 533, 535, 541, 542, 562, 563, 564,\n",
       "        565, 566, 567])}"
      ]
     },
     "execution_count": 127,
     "metadata": {},
     "output_type": "execute_result"
    }
   ],
   "source": [
    "def find_split(x, y):\n",
    "    \"\"\"Given a dataset and its target values, this finds the optimal combination\n",
    "    of feature and split point that gives the maximum information gain.\"\"\"\n",
    "    \n",
    "    # Need the starting entropy so we can measure improvement...\n",
    "    start_entropy = calculate_entropy(y)\n",
    "    \n",
    "    # Best thus far, initialised to a dud that will be replaced immediately...\n",
    "    best = {'infogain' : -np.inf}\n",
    "    \n",
    "    # Loop every possible split of every dimension...\n",
    "    for i in range(x.shape[1]):\n",
    "    \n",
    "        #print(np.unique(x[:,i]))\n",
    "        count=0\n",
    "        \n",
    "        for split in np.unique(x[:,i]):\n",
    "            \n",
    "            # **************************************************************** 5 marks\n",
    "            count+=1\n",
    "            #print(count)\n",
    "            yL,yR=[],[]\n",
    "            \n",
    "            left_indices,right_indices=[],[]\n",
    "            if count!=len(np.unique(x[:,i])):\n",
    "                for feature_index,val in enumerate(x[:,i]):\n",
    "                    if val<=split:\n",
    "                        yL.append(y[feature_index])\n",
    "                        left_indices.append(feature_index)\n",
    "                    else:\n",
    "                        yR.append(y[feature_index])\n",
    "                        right_indices.append(feature_index)\n",
    "    \n",
    "                TotalLtf=len(yL)\n",
    "                TotalRtf=len(yR)\n",
    "                leftE=calculate_entropy(np.array(yL))\n",
    "                rightE=calculate_entropy(np.array(yR))\n",
    "                infogain=start_entropy-(TotalRtf/len(y))*rightE-(TotalLtf/len(y))*leftE\n",
    "                #print(infogain, i, split)\n",
    "            else:\n",
    "                infogain=start_entropy-start_entropy\n",
    "            \n",
    "            if infogain > best['infogain']:\n",
    "                best = {'feature' : i,\n",
    "                        'split' : split,\n",
    "                        'infogain' : infogain, \n",
    "                        'left_indices' : np.array(left_indices),\n",
    "                        'right_indices' : np.array(right_indices)}\n",
    "    return best\n"
   ]
  },
  {
   "cell_type": "markdown",
   "metadata": {
    "collapsed": true
   },
   "source": [
    "The function `find_split()` allows us to find the optimal feature and the best value to split the data into two chunks (on its own it is the _decision stump_ algorithm). Applying this to the original data set splits it into two new data sets. We can then repeat this on both of the new data sets to get four data sets, and so on. This recursion builds a decision tree. It needs a stopping condition, to prevent it dividing the data forever, here we will use two:\n",
    " * Maximum depth: The tree is limited to be no deeper than a provided limit.\n",
    " * Perfection: If a node contains only one class then it does not make sense to split it further.\n",
    "\n",
    "We provide the function `build_tree(x, y, max_depth)` below to construct a tree. The inputs are: \n",
    "\n",
    " * The data matrix of features, `x` in `R^None`. `n` is the number of data points and `d` is the feature dimensionality. \n",
    " * `y`, a column vector of size `n` containing the target value for each data point in `x`.\n",
    " * The maximum depth of the tree, `max_depth`.\n",
    "\n",
    "The output of this function is a dictionary. If it has generated a leaf node then the keys are:\n",
    " * `'leaf' : True`\n",
    " * `'class'` : The index of the class to assign to exemplars that land here.\n",
    "\n",
    "If it has generated a split node then the keys are:\n",
    " * `'leaf' : False`\n",
    " * `'feature'`: The feature to apply the `split` to.\n",
    " * `'split'`: The split to test the exemplars `feature` with.\n",
    " * `'infogain'`: The information gain of this split.\n",
    " * `'left'` : The left subtree, for exemplars where `x[feature_index]<=split`\n",
    " * `'right'` : The right subtree, for exemplars where `x[feature_index]>split`\n",
    "\n",
    "Note how this structure is compatable with the one returned by `find_split()` above.\n"
   ]
  },
  {
   "cell_type": "code",
   "execution_count": 67,
   "metadata": {},
   "outputs": [],
   "source": [
    "def build_tree(x, y, max_depth = np.inf):\n",
    "    # Check if either of the stopping conditions have been reached. If so generate a leaf node...\n",
    "    if max_depth==1 or (y==y[0]).all():\n",
    "        # Generate a leaf node...\n",
    "        classes, counts = np.unique(y, return_counts=True)\n",
    "        return {'leaf' : True, 'class' : classes[np.argmax(counts)]}\n",
    "    \n",
    "    else:\n",
    "        move = find_split(x, y)\n",
    "        \n",
    "        left = build_tree(x[move['left_indices'],:], y[move['left_indices']], max_depth - 1)\n",
    "        right = build_tree(x[move['right_indices'],:], y[move['right_indices']], max_depth - 1)\n",
    "        \n",
    "        return {'leaf' : False,\n",
    "                'feature' : move['feature'],\n",
    "                'split' : move['split'],\n",
    "                'infogain' : move['infogain'],\n",
    "                'left' : left,\n",
    "                'right' : right}"
   ]
  },
  {
   "cell_type": "markdown",
   "metadata": {
    "collapsed": true
   },
   "source": [
    "After building the tree we should be able to predict the class of a sample. We do that by propagating the sample through the tree, i.e. we check all the splitting conditions until the sample falls in a leaf node, in which case the class of the leaf node is attributed to the sample.\n",
    "\n",
    "We provide the recursive function `predict_one(tree, sample)` that takes as input the constructed tree, a sample in `R^d` and recursively propagates it through the branches of our tree. The output of this function is the class predicted for the sample."
   ]
  },
  {
   "cell_type": "code",
   "execution_count": 68,
   "metadata": {},
   "outputs": [],
   "source": [
    "def predict_one(tree, sample):\n",
    "    \"\"\"Does the prediction for a single data point\"\"\"\n",
    "    if tree['leaf']:\n",
    "        return tree['class']\n",
    "    \n",
    "    else:\n",
    "        if sample[tree['feature']] <= tree['split']:\n",
    "            return predict_one(tree['left'], sample)\n",
    "        else:\n",
    "            return predict_one(tree['right'], sample)\n"
   ]
  },
  {
   "cell_type": "markdown",
   "metadata": {},
   "source": [
    "We further generalize the prediction function above to the case where we have a data matrix `R^None` representing many data points. the function `predict(tree, samples)` bellow takes as input the constructed tree and a data array then returns an array containing the predictions for all the samples in our input data array."
   ]
  },
  {
   "cell_type": "code",
   "execution_count": 69,
   "metadata": {},
   "outputs": [],
   "source": [
    "def predict(tree, samples):\n",
    "    \"\"\"Predicts class for every entry of a data matrix.\"\"\"\n",
    "    ret = np.empty(samples.shape[0], dtype=int)\n",
    "    ret.fill(-1)\n",
    "    indices = np.arange(samples.shape[0])\n",
    "    \n",
    "    def tranverse(node, indices):\n",
    "        nonlocal samples\n",
    "        nonlocal ret\n",
    "        \n",
    "        if node['leaf']:\n",
    "            ret[indices] = node['class']\n",
    "        \n",
    "        else:\n",
    "            going_left = samples[indices, node['feature']] <= node['split']\n",
    "            left_indices = indices[going_left]\n",
    "            right_indices = indices[np.logical_not(going_left)]\n",
    "            \n",
    "            if left_indices.shape[0] > 0:\n",
    "                tranverse(node['left'], left_indices)\n",
    "                \n",
    "            if right_indices.shape[0] > 0:\n",
    "                tranverse(node['right'], right_indices)\n",
    "    \n",
    "    tranverse(tree, indices)\n",
    "    return ret"
   ]
  },
  {
   "cell_type": "markdown",
   "metadata": {},
   "source": [
    "## 4. Accuracy:\n",
    "Use the functions defined above to build a tree and report both its training and test accuracy.\n",
    "\n",
    "__(2 marks)__"
   ]
  },
  {
   "cell_type": "code",
   "execution_count": 82,
   "metadata": {},
   "outputs": [
    {
     "name": "stdout",
     "output_type": "stream",
     "text": [
      "Train Accuracy: 100.00%\n",
      "Test Accuracy: 89.91%\n"
     ]
    }
   ],
   "source": [
    "def evaluate(x_train, y_train, x_test, y_test, max_depth):\n",
    "    \n",
    "    # **************************************************************** 2 marks\n",
    "    tree=build_tree(x_train,y_train,max_depth)\n",
    "    pred_train=predict(tree,x_train)\n",
    "    pred_test=predict(tree,x_test)\n",
    "\n",
    "    train_corr=np.unique(pred_train==y_train,return_counts=True)\n",
    "    test_corr=np.unique(pred_test==y_test,return_counts=True)\n",
    "\n",
    "    train_num=train_corr[1][np.where(train_corr[0]==True)[0][0]]\n",
    "    test_num=test_corr[1][np.where(test_corr[0]==True)[0][0]]\n",
    "    \n",
    "    train_acc=train_num/sum(train_corr[1])\n",
    "    test_acc=test_num/sum(test_corr[1])\n",
    "    \n",
    "    return train_acc, test_acc\n",
    "\n",
    "\n",
    "train_acc, test_acc = evaluate(x_train, y_train, x_test, y_test, np.inf)\n",
    "print('Train Accuracy: {:.2f}%'.format(train_acc*100))\n",
    "print('Test Accuracy: {:.2f}%'.format(test_acc*100))"
   ]
  },
  {
   "cell_type": "markdown",
   "metadata": {},
   "source": [
    "## 5. Optimal Tree Depth\n",
    "\n",
    "Find the best `max_depth` parameter plus its corresponding training and test accuracies. A good range to test is `range(2,6)`.\n",
    "\n",
    "__(2 marks)__"
   ]
  },
  {
   "cell_type": "code",
   "execution_count": 85,
   "metadata": {
    "scrolled": true
   },
   "outputs": [
    {
     "name": "stdout",
     "output_type": "stream",
     "text": [
      "The best max_depth is 4, and the corresponding training and test accuracies are 97.36% and 91.67% respectively.\n"
     ]
    }
   ],
   "source": [
    "def find_best_max_depth(x_train, y_train, x_test, y_test):\n",
    "    \n",
    "    # **************************************************************** 2 marks\n",
    "    best_test_acc=0\n",
    "    for max_depth in range(2,6):\n",
    "        train_acc,test_acc=evaluate(x_train, y_train, x_test, y_test,max_depth)\n",
    "        if best_test_acc<=test_acc:\n",
    "            best_max_depth=max_depth\n",
    "            best_train_acc=train_acc\n",
    "            best_test_acc=test_acc\n",
    "            \n",
    "    return best_max_depth, best_train_acc, best_test_acc\n",
    "\n",
    "\n",
    "best_max_depth, best_train_acc, best_test_acc = find_best_max_depth(x_train, y_train, x_test, y_test)\n",
    "print('The best max_depth is {}, and the corresponding training and test accuracies are {:.2f}% and {:.2f}% respectively.'.format(best_max_depth,best_train_acc*100,best_test_acc*100))"
   ]
  },
  {
   "cell_type": "markdown",
   "metadata": {},
   "source": [
    "## 6. Looking at Trees\n",
    "\n",
    "Write a recursive function that prints out a tree, and use it to print the <b>best</b> tree learned.\n",
    "\n",
    "Example:\n",
    "\n",
    "```\n",
    "    [x22 <=0.296]\n",
    "\n",
    "        [x27 <=-0.058]\n",
    "\n",
    "          [x13 <=0.187]\n",
    "\n",
    "           [x21 <=1.246]\n",
    "                predict 1\n",
    "                \n",
    "           [x21 >1.246]\n",
    "                predict 0\n",
    "                \n",
    "          [x13 >0.187]\n",
    "\n",
    "           [x0 <=0.160]\n",
    "                predict 1\n",
    "                \n",
    "           [x0 >0.160]\n",
    "                predict 0\n",
    "                \n",
    "        [x27 >-0.058]\n",
    "\n",
    "          [x27 <=0.690]\n",
    "\n",
    "           [x21 <=0.263]\n",
    "            predict 1\n",
    "            \n",
    "           [x21 >0.263]\n",
    "            predict 0\n",
    "            \n",
    "          [x27 >0.690]\n",
    "            predict 0\n",
    "            \n",
    "    [x22 >0.296]\n",
    "\n",
    "    predict 0\n",
    "```\n",
    "\n",
    "The conditions with the same tree depth must be indented the same amount. This function should have as input the tree learned, and a scalar `indent` that is used to measure how far to indent at the current recursion level.\n",
    "\n",
    "__(1 mark)__"
   ]
  },
  {
   "cell_type": "code",
   "execution_count": 120,
   "metadata": {},
   "outputs": [
    {
     "name": "stdout",
     "output_type": "stream",
     "text": [
      "[x22 <=105.000]\n",
      "\t[x24 <=0.173]\n",
      "\t\t[x21 <=23.310]\n",
      "\t\t\tpredict 1\n",
      "\t\t[x21 >23.310]\n",
      "\t\t\tpredict 1\n",
      "\t[x24 >0.173]\n",
      "\t\tpredict 0\n",
      "[x22 >105.000]\n",
      "\t[x22 <=114.300]\n",
      "\t\t[x1 <=19.650]\n",
      "\t\t\tpredict 1\n",
      "\t\t[x1 >19.650]\n",
      "\t\t\tpredict 0\n",
      "\t[x22 >114.300]\n",
      "\t\t[x7 <=0.028]\n",
      "\t\t\tpredict 1\n",
      "\t\t[x7 >0.028]\n",
      "\t\t\tpredict 0\n"
     ]
    }
   ],
   "source": [
    "def print_tree(tree, indent = 0):\n",
    "    \n",
    "    # **************************************************************** 1 mark\n",
    "    \n",
    "    if tree['left']['leaf']==False:\n",
    "        print(indent*'\\t'+'[x{0} <={1:.3f}]'.format(tree['feature'],tree['split']))\n",
    "        print_tree(tree['left'], indent+1)\n",
    "    if tree['right']['leaf']==False:\n",
    "        print(indent*'\\t'+'[x{0} >{1:.3f}]'.format(tree['feature'],tree['split']))\n",
    "        print_tree(tree['right'], indent+1)   \n",
    "    if tree['left']['leaf']==True:\n",
    "        print(indent*'\\t'+'[x{0} <={1:.3f}]'.format(tree['feature'],tree['split']))\n",
    "        print((indent+1)*'\\t'+'predict {}'.format(tree['left']['class']))\n",
    "    if tree['right']['leaf']==True:\n",
    "        print(indent*'\\t'+'[x{0} >{1:.3f}]'.format(tree['feature'],tree['split']))\n",
    "        print((indent+1)*'\\t'+'predict {}'.format(tree['right']['class']))   \n",
    "    \n",
    "        \n",
    "tree = build_tree(x_train, y_train, best_max_depth)\n",
    "print_tree(tree)"
   ]
  },
  {
   "cell_type": "code",
   "execution_count": 128,
   "metadata": {},
   "outputs": [
    {
     "name": "stdout",
     "output_type": "stream",
     "text": [
      "{'feature': 22,\n",
      " 'infogain': 0.6180372496508715,\n",
      " 'leaf': False,\n",
      " 'left': {'feature': 24,\n",
      "          'infogain': 0.14260717506536755,\n",
      "          'leaf': False,\n",
      "          'left': {'feature': 21,\n",
      "                   'infogain': 0.046686955553979476,\n",
      "                   'leaf': False,\n",
      "                   'left': {'class': 1, 'leaf': True},\n",
      "                   'right': {'class': 1, 'leaf': True},\n",
      "                   'split': 23.31},\n",
      "          'right': {'class': 0, 'leaf': True},\n",
      "          'split': 0.1733},\n",
      " 'right': {'feature': 22,\n",
      "           'infogain': 0.15946418150236125,\n",
      "           'leaf': False,\n",
      "           'left': {'feature': 1,\n",
      "                    'infogain': 0.61751117056093,\n",
      "                    'leaf': False,\n",
      "                    'left': {'class': 1, 'leaf': True},\n",
      "                    'right': {'class': 0, 'leaf': True},\n",
      "                    'split': 19.65},\n",
      "           'right': {'feature': 7,\n",
      "                     'infogain': 0.06722154475830686,\n",
      "                     'leaf': False,\n",
      "                     'left': {'class': 1, 'leaf': True},\n",
      "                     'right': {'class': 0, 'leaf': True},\n",
      "                     'split': 0.02771},\n",
      "           'split': 114.3},\n",
      " 'split': 105.0}\n"
     ]
    }
   ],
   "source": [
    "pprint(tree)"
   ]
  },
  {
   "cell_type": "code",
   "execution_count": null,
   "metadata": {},
   "outputs": [],
   "source": []
  }
 ],
 "metadata": {
  "kernelspec": {
   "display_name": "Python 3",
   "language": "python",
   "name": "python3"
  },
  "language_info": {
   "codemirror_mode": {
    "name": "ipython",
    "version": 3
   },
   "file_extension": ".py",
   "mimetype": "text/x-python",
   "name": "python",
   "nbconvert_exporter": "python",
   "pygments_lexer": "ipython3",
   "version": "3.8.8"
  }
 },
 "nbformat": 4,
 "nbformat_minor": 2
}
